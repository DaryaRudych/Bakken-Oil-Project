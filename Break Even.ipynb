{
 "cells": [
  {
   "cell_type": "code",
   "execution_count": 19,
   "metadata": {},
   "outputs": [],
   "source": [
    "# Import dependencies\n",
    "import pandas as pd\n",
    "import numpy as np \n",
    "import matplotlib.pyplot as plt\n",
    "import graphviz\n",
    "from sklearn.tree import DecisionTreeClassifier, export_graphviz\n",
    "from sklearn.model_selection import train_test_split\n",
    "from sklearn.metrics import accuracy_score\n",
    "import os\n",
    "import subprocess\n"
   ]
  },
  {
   "cell_type": "code",
   "execution_count": 2,
   "metadata": {},
   "outputs": [],
   "source": [
    "# Import Excel file into data frame\n",
    "eagleford_df = pd.read_excel(\"Eagle Ford Data.xlsx\")"
   ]
  },
  {
   "cell_type": "code",
   "execution_count": 84,
   "metadata": {},
   "outputs": [
    {
     "data": {
      "text/plain": [
       "['API',\n",
       " 'Longitude',\n",
       " 'Latitude',\n",
       " 'Bottomhole longitude',\n",
       " 'Bottomhole latitude',\n",
       " 'Well Number',\n",
       " 'Lease Name',\n",
       " 'Well Type',\n",
       " 'Permit Type',\n",
       " 'Pad',\n",
       " 'Operator',\n",
       " 'Operator (Subsidiary)',\n",
       " 'Operator (Original)',\n",
       " 'Operator Thematic Group',\n",
       " 'Operator US Focus',\n",
       " 'Play',\n",
       " 'Sub-play',\n",
       " 'State',\n",
       " 'County',\n",
       " 'Region',\n",
       " 'Basin',\n",
       " 'Reservoir',\n",
       " 'Field',\n",
       " 'Permit Date',\n",
       " 'Drilling Start Date',\n",
       " 'Drilling End Date',\n",
       " 'Completion Date',\n",
       " 'First Production Date',\n",
       " 'IP Date',\n",
       " 'Vertical Depth (m)',\n",
       " 'Measured Depth (m)',\n",
       " 'Lateral Length (m)',\n",
       " 'Drilling Days (days)',\n",
       " 'Drilling Speed (m/day)',\n",
       " 'Fracture Stages (stages)',\n",
       " 'Water (l)',\n",
       " 'Proppant (kg)',\n",
       " 'API Gravity (degree)',\n",
       " 'Well Cost Total (US$)',\n",
       " 'Rig Cost (US$)',\n",
       " 'Casing Cost (US$)',\n",
       " 'Water Cost (US$)',\n",
       " 'Proppant Cost (US$)',\n",
       " 'Pumping Cost (US$)',\n",
       " 'Other Cost (US$)',\n",
       " 'Cum30 Oil (bbl)',\n",
       " 'Cum60 Oil (bbl)',\n",
       " 'Cum90 Oil (bbl)',\n",
       " 'Cum180 Oil (bbl)',\n",
       " 'Cum365 Oil (bbl)',\n",
       " 'Cum30 Gas (mcf)',\n",
       " 'Cum60 Gas (mcf)',\n",
       " 'Cum90 Gas (mcf)',\n",
       " 'Cum180 Gas (mcf)',\n",
       " 'Cum365 Gas (mcf)',\n",
       " 'Cum30 Total (boe)',\n",
       " 'Cum60 Total (boe)',\n",
       " 'Cum90 Total (boe)',\n",
       " 'Cum180 Total (boe)',\n",
       " 'Cum365 Total (boe)',\n",
       " 'IP Oil (b/d)',\n",
       " 'IP Gas (mmcfd)',\n",
       " 'IP Total (boe/d)',\n",
       " 'EUR Oil (mmbbl)',\n",
       " 'EUR Gas (bcf)',\n",
       " 'EUR Total (mmboe)',\n",
       " 'bi Oil',\n",
       " 'Di Oil (per month)',\n",
       " 'Dmin Oil (per year)',\n",
       " 'bi Gas',\n",
       " 'Di Gas (per month)',\n",
       " 'Dmin Gas (per year)']"
      ]
     },
     "execution_count": 84,
     "metadata": {},
     "output_type": "execute_result"
    }
   ],
   "source": [
    "eagleford_df.columns.tolist()"
   ]
  },
  {
   "cell_type": "code",
   "execution_count": 85,
   "metadata": {},
   "outputs": [],
   "source": [
    "# Build data frame\n",
    "data_df = pd.DataFrame({\n",
    "                       'Sub-play':eagleford_df['Sub-play'],\n",
    "                       'Longitude':eagleford_df['Longitude'],\n",
    "                       'Latitude':eagleford_df['Latitude'],\n",
    "                       'Well Cost Total (US$)':eagleford_df['Well Cost Total (US$)'],\n",
    "                       'Cum365 Total (boe)':eagleford_df['Cum365 Total (boe)'],\n",
    "                       'Vertical Depth (m)':eagleford_df['Vertical Depth (m)'],\n",
    "                       'Measured Depth (m)':eagleford_df['Measured Depth (m)'],\n",
    "                       'Lateral Length (m)':eagleford_df['Lateral Length (m)'],\n",
    "                       })"
   ]
  },
  {
   "cell_type": "code",
   "execution_count": 86,
   "metadata": {},
   "outputs": [],
   "source": [
    "# Drop rows with missing cumulative data\n",
    "data_df = data_df.dropna(axis=0,how='any')"
   ]
  },
  {
   "cell_type": "code",
   "execution_count": 87,
   "metadata": {},
   "outputs": [],
   "source": [
    "# Price of oil today 8/27/2018\n",
    "oil_price = 68.92\n",
    "data_df['Cum365 Revenue (US$)'] = data_df['Cum365 Total (boe)']*oil_price"
   ]
  },
  {
   "cell_type": "code",
   "execution_count": 88,
   "metadata": {},
   "outputs": [
    {
     "data": {
      "text/html": [
       "<div>\n",
       "<style scoped>\n",
       "    .dataframe tbody tr th:only-of-type {\n",
       "        vertical-align: middle;\n",
       "    }\n",
       "\n",
       "    .dataframe tbody tr th {\n",
       "        vertical-align: top;\n",
       "    }\n",
       "\n",
       "    .dataframe thead th {\n",
       "        text-align: right;\n",
       "    }\n",
       "</style>\n",
       "<table border=\"1\" class=\"dataframe\">\n",
       "  <thead>\n",
       "    <tr style=\"text-align: right;\">\n",
       "      <th></th>\n",
       "      <th>Sub-play</th>\n",
       "      <th>Longitude</th>\n",
       "      <th>Latitude</th>\n",
       "      <th>Well Cost Total (US$)</th>\n",
       "      <th>Cum365 Total (boe)</th>\n",
       "      <th>Vertical Depth (m)</th>\n",
       "      <th>Measured Depth (m)</th>\n",
       "      <th>Lateral Length (m)</th>\n",
       "      <th>Cum365 Revenue (US$)</th>\n",
       "    </tr>\n",
       "  </thead>\n",
       "  <tbody>\n",
       "    <tr>\n",
       "      <th>21</th>\n",
       "      <td>Black Oil</td>\n",
       "      <td>-98.522838</td>\n",
       "      <td>28.922144</td>\n",
       "      <td>7397396.0</td>\n",
       "      <td>20837.0</td>\n",
       "      <td>2332.0</td>\n",
       "      <td>4008.0</td>\n",
       "      <td>1593.0</td>\n",
       "      <td>1436086.04</td>\n",
       "    </tr>\n",
       "    <tr>\n",
       "      <th>22</th>\n",
       "      <td>Black Oil</td>\n",
       "      <td>-98.541724</td>\n",
       "      <td>28.759596</td>\n",
       "      <td>7046343.0</td>\n",
       "      <td>51826.0</td>\n",
       "      <td>2657.0</td>\n",
       "      <td>4069.0</td>\n",
       "      <td>1341.0</td>\n",
       "      <td>3571847.92</td>\n",
       "    </tr>\n",
       "    <tr>\n",
       "      <th>23</th>\n",
       "      <td>Black Oil</td>\n",
       "      <td>-98.211906</td>\n",
       "      <td>28.846486</td>\n",
       "      <td>6313942.0</td>\n",
       "      <td>67468.0</td>\n",
       "      <td>3064.0</td>\n",
       "      <td>5022.0</td>\n",
       "      <td>1860.0</td>\n",
       "      <td>4649894.56</td>\n",
       "    </tr>\n",
       "    <tr>\n",
       "      <th>24</th>\n",
       "      <td>Black Oil</td>\n",
       "      <td>-98.750151</td>\n",
       "      <td>28.771177</td>\n",
       "      <td>5512727.0</td>\n",
       "      <td>20272.0</td>\n",
       "      <td>2377.0</td>\n",
       "      <td>3888.0</td>\n",
       "      <td>1436.0</td>\n",
       "      <td>1397146.24</td>\n",
       "    </tr>\n",
       "    <tr>\n",
       "      <th>25</th>\n",
       "      <td>Black Oil</td>\n",
       "      <td>-98.222394</td>\n",
       "      <td>28.847150</td>\n",
       "      <td>5065798.0</td>\n",
       "      <td>28316.0</td>\n",
       "      <td>3050.0</td>\n",
       "      <td>4432.0</td>\n",
       "      <td>1313.0</td>\n",
       "      <td>1951538.72</td>\n",
       "    </tr>\n",
       "  </tbody>\n",
       "</table>\n",
       "</div>"
      ],
      "text/plain": [
       "     Sub-play  Longitude   Latitude  Well Cost Total (US$)  \\\n",
       "21  Black Oil -98.522838  28.922144              7397396.0   \n",
       "22  Black Oil -98.541724  28.759596              7046343.0   \n",
       "23  Black Oil -98.211906  28.846486              6313942.0   \n",
       "24  Black Oil -98.750151  28.771177              5512727.0   \n",
       "25  Black Oil -98.222394  28.847150              5065798.0   \n",
       "\n",
       "    Cum365 Total (boe)  Vertical Depth (m)  Measured Depth (m)  \\\n",
       "21             20837.0              2332.0              4008.0   \n",
       "22             51826.0              2657.0              4069.0   \n",
       "23             67468.0              3064.0              5022.0   \n",
       "24             20272.0              2377.0              3888.0   \n",
       "25             28316.0              3050.0              4432.0   \n",
       "\n",
       "    Lateral Length (m)  Cum365 Revenue (US$)  \n",
       "21              1593.0            1436086.04  \n",
       "22              1341.0            3571847.92  \n",
       "23              1860.0            4649894.56  \n",
       "24              1436.0            1397146.24  \n",
       "25              1313.0            1951538.72  "
      ]
     },
     "execution_count": 88,
     "metadata": {},
     "output_type": "execute_result"
    }
   ],
   "source": [
    "data_df.head()"
   ]
  },
  {
   "cell_type": "code",
   "execution_count": 89,
   "metadata": {},
   "outputs": [],
   "source": [
    "# Add break even column to data_df\n",
    "data_df['Break Even'] = data_df.apply(lambda row: 1 \n",
    "                                 if row['Cum365 Revenue (US$)'] - row['Well Cost Total (US$)'] >= 0 \n",
    "                                 else 0, axis=1)"
   ]
  },
  {
   "cell_type": "code",
   "execution_count": 90,
   "metadata": {},
   "outputs": [],
   "source": [
    "# Create training and test data sets\n",
    "train, test = train_test_split(data_df, test_size=0.2)"
   ]
  },
  {
   "cell_type": "code",
   "execution_count": 97,
   "metadata": {},
   "outputs": [],
   "source": [
    "# Define training features \n",
    "training_features = train.loc[:,['Latitude','Longitude','Vertical Depth (m)','Measured Depth (m)','Lateral Length (m)']]"
   ]
  },
  {
   "cell_type": "code",
   "execution_count": 99,
   "metadata": {},
   "outputs": [],
   "source": [
    "# Define test features \n",
    "test_features = test.loc[:,['Latitude','Longitude','Vertical Depth (m)','Measured Depth (m)','Lateral Length (m)']]"
   ]
  },
  {
   "cell_type": "code",
   "execution_count": 94,
   "metadata": {},
   "outputs": [],
   "source": [
    "# Define target\n",
    "target = train['Break Even']"
   ]
  },
  {
   "cell_type": "code",
   "execution_count": 118,
   "metadata": {},
   "outputs": [],
   "source": [
    "# Create decision tree model\n",
    "dt = DecisionTreeClassifier()"
   ]
  },
  {
   "cell_type": "code",
   "execution_count": 119,
   "metadata": {},
   "outputs": [
    {
     "data": {
      "text/plain": [
       "DecisionTreeClassifier(class_weight=None, criterion='gini', max_depth=None,\n",
       "            max_features=None, max_leaf_nodes=None,\n",
       "            min_impurity_decrease=0.0, min_impurity_split=None,\n",
       "            min_samples_leaf=1, min_samples_split=2,\n",
       "            min_weight_fraction_leaf=0.0, presort=False, random_state=None,\n",
       "            splitter='best')"
      ]
     },
     "execution_count": 119,
     "metadata": {},
     "output_type": "execute_result"
    }
   ],
   "source": [
    "# Fit training data to the model\n",
    "dt.fit(training_features, target)"
   ]
  },
  {
   "cell_type": "code",
   "execution_count": 120,
   "metadata": {},
   "outputs": [],
   "source": [
    "# Make prediction by passing test features to the model\n",
    "predict = dt.predict(test_features)"
   ]
  },
  {
   "cell_type": "code",
   "execution_count": 121,
   "metadata": {},
   "outputs": [
    {
     "data": {
      "text/plain": [
       "0.766295707472178"
      ]
     },
     "execution_count": 121,
     "metadata": {},
     "output_type": "execute_result"
    }
   ],
   "source": [
    "# Accuracy of predicion\n",
    "accuracy_score(test['Break Even'], predict)"
   ]
  },
  {
   "cell_type": "code",
   "execution_count": 15,
   "metadata": {},
   "outputs": [],
   "source": [
    "# Function to create tree visiualization as png file\n",
    "def visualize_tree(tree, feature_names):\n",
    "    \"\"\"Create tree png using graphviz.\n",
    "\n",
    "    Args\n",
    "    ----\n",
    "    tree -- scikit-learn DecsisionTree.\n",
    "    feature_names -- list of feature names.\n",
    "    \"\"\"\n",
    "    with open(\"dt.dot\", 'w') as f:\n",
    "        export_graphviz(tree, out_file=f,\n",
    "                        feature_names=feature_names)\n",
    "\n",
    "    command = [\"dot\", \"-Tpng\", \"dt.dot\", \"-o\", \"dt.png\"]\n",
    "    try:\n",
    "        subprocess.check_call(command)\n",
    "    except:\n",
    "        exit(\"Could not run dot, ie graphviz, to \"\n",
    "             \"produce visualization\")"
   ]
  },
  {
   "cell_type": "code",
   "execution_count": 83,
   "metadata": {},
   "outputs": [],
   "source": [
    "# Create png file \n",
    "visualize_tree(dt, list(features))"
   ]
  },
  {
   "cell_type": "code",
   "execution_count": null,
   "metadata": {},
   "outputs": [],
   "source": []
  }
 ],
 "metadata": {
  "kernelspec": {
   "display_name": "Python 3",
   "language": "python",
   "name": "python3"
  },
  "language_info": {
   "codemirror_mode": {
    "name": "ipython",
    "version": 3
   },
   "file_extension": ".py",
   "mimetype": "text/x-python",
   "name": "python",
   "nbconvert_exporter": "python",
   "pygments_lexer": "ipython3",
   "version": "3.6.5"
  }
 },
 "nbformat": 4,
 "nbformat_minor": 2
}
